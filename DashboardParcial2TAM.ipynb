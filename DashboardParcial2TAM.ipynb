{
  "nbformat": 4,
  "nbformat_minor": 0,
  "metadata": {
    "colab": {
      "provenance": [],
      "authorship_tag": "ABX9TyMpSYX2azD0p4ekJ0Mw/GGW",
      "include_colab_link": true
    },
    "kernelspec": {
      "name": "python3",
      "display_name": "Python 3"
    },
    "language_info": {
      "name": "python"
    }
  },
  "cells": [
    {
      "cell_type": "markdown",
      "metadata": {
        "id": "view-in-github",
        "colab_type": "text"
      },
      "source": [
        "<a href=\"https://colab.research.google.com/github/jperdomos/Parcial_2_TAM_2025_1/blob/main/DashboardParcial2TAM.ipynb\" target=\"_parent\"><img src=\"https://colab.research.google.com/assets/colab-badge.svg\" alt=\"Open In Colab\"/></a>"
      ]
    },
    {
      "cell_type": "code",
      "execution_count": 63,
      "metadata": {
        "id": "vGHqk5jYVnRO"
      },
      "outputs": [],
      "source": [
        "!pip install -q streamlit pyngrok\n",
        "!pip install -q gdown\n"
      ]
    },
    {
      "cell_type": "code",
      "source": [
        "!gdown --id 1P57Ep74YRG51bUjSaQ8OYUsNrQq4S7lg -O escudo_unal.png"
      ],
      "metadata": {
        "colab": {
          "base_uri": "https://localhost:8080/"
        },
        "id": "V47IlRApB84X",
        "outputId": "ee332251-6c63-46b7-d3e3-c8102acf4a06"
      },
      "execution_count": 64,
      "outputs": [
        {
          "output_type": "stream",
          "name": "stdout",
          "text": [
            "/usr/local/lib/python3.11/dist-packages/gdown/__main__.py:140: FutureWarning: Option `--id` was deprecated in version 4.3.1 and will be removed in 5.0. You don't need to pass it anymore to use a file ID.\n",
            "  warnings.warn(\n",
            "Downloading...\n",
            "From: https://drive.google.com/uc?id=1P57Ep74YRG51bUjSaQ8OYUsNrQq4S7lg\n",
            "To: /content/escudo_unal.png\n",
            "100% 43.1k/43.1k [00:00<00:00, 29.0MB/s]\n"
          ]
        }
      ]
    },
    {
      "cell_type": "code",
      "source": [
        "%%bash\n",
        "cat > app.py << 'EOF'\n",
        "import streamlit as st\n",
        "import streamlit.components.v1 as components\n",
        "\n",
        "# Configuración general\n",
        "st.set_page_config(page_title=\"Parcial 2 TAM 2025‑1\", layout=\"wide\")\n",
        "\n",
        "# Sidebar con el logo y navegación\n",
        "with st.sidebar:\n",
        "    st.image(\"escudo_unal.png\", width=160)\n",
        "\n",
        "    page = st.selectbox(\"Sección\", [\"Punto A\", \"Punto B\", \"Punto C\"])\n",
        "\n",
        "    st.markdown(\"---\")\n",
        "    st.markdown(\"### Integrantes:\")\n",
        "    st.markdown(\"- Jholman Dasney Meza\\n- Campos Herney Tulcan\\n- Juan Camilo Perdomo Soto\")\n",
        "    st.markdown(\"### Profesor:\")\n",
        "    st.markdown(\"**Andres Marino Álvarez Meza, Ph.D.**\")\n",
        "    st.markdown(\"#### Universidad Nacional de Colombia — Sede Manizales\")\n",
        "\n",
        "\n",
        "if page == \"Punto A\":\n",
        "    st.header(\"🔹 Punto A\")\n",
        "    file_id = \"1434woG2eO13tPr5fCh6Z5kwVavKPmgdF\"\n",
        "    url = f\"https://drive.google.com/file/d/{file_id}/preview#page=1\"\n",
        "    components.iframe(url, width=900, height=600)\n",
        "\n",
        "elif page == \"Punto B\":\n",
        "    st.header(\"🔹 Punto B: Reducción de Dimensión\")\n",
        "    st.markdown(\"### Visualización comparativa de proyecciones\")\n",
        "\n",
        "    # Cuadrícula 2x2\n",
        "    col1, col2 = st.columns(2)\n",
        "    with col1:\n",
        "        st.markdown(\"**PCA (2D)**\")\n",
        "        url = \"https://drive.google.com/file/d/1UzDfOFSKYnGKXNNkREyE1h8KGh4RQr5v/preview\"\n",
        "        components.iframe(url, width=440, height=400)\n",
        "    with col2:\n",
        "        st.markdown(\"**UMAP (n_neighbors = 5)**\")\n",
        "        url = \"https://drive.google.com/file/d/18we7yuNrdfOtKHyrPmWGqwRANascUbXU/preview\"\n",
        "        components.iframe(url, width=440, height=400)\n",
        "\n",
        "    col3, col4 = st.columns(2)\n",
        "    with col3:\n",
        "        st.markdown(\"**UMAP (n_neighbors = 25)**\")\n",
        "        url = \"https://drive.google.com/file/d/1Pf2l2PLFVsxizkP0tfLgjrhzAzaYkM9H/preview\"\n",
        "        components.iframe(url, width=440, height=400)\n",
        "    with col4:\n",
        "        st.markdown(\"**UMAP (n_neighbors = 60)**\")\n",
        "        url = \"https://drive.google.com/file/d/1oYI_uBI_BZz2c9CKXFNMznCAPZYwcGLE/preview\"\n",
        "        components.iframe(url, width=440, height=400)\n",
        "\n",
        "    st.markdown(\"\"\"---\"\"\")\n",
        "    st.markdown(\"\"\"\n",
        "### Análisis de resultados: Proyección de datos\n",
        "\n",
        "La reducción de dimensión es clave para entender la estructura interna de los datos. En este caso se compararon dos métodos sobre el conjunto de dígitos manuscritos USPS: PCA y UMAP. Cada uno proyectó las imágenes en dos dimensiones permitiendo una visualización directa de las relaciones entre clases.\n",
        "\n",
        "#### PCA (2D)\n",
        "La proyección con PCA muestra un gran cúmulo central donde la mayoría de los puntos se solapan. Aunque algunos dígitos como el 0 y el 1 tienden a agruparse las clases no están claramente separadas. Esto ocurre porque PCA busca direcciones de máxima varianza sin considerar la forma real del espacio de datos. El resultado es útil para observar tendencias generales pero no para distinguir clases de forma precisa.\n",
        "\n",
        "#### UMAP (n_neighbors = 5)\n",
        "Cuando se usa UMAP con pocos vecinos los puntos se agrupan en clústeres bien definidos. Cada dígito forma un grupo denso con bordes marcados y poca mezcla entre clases. Esto permite ver la estructura local de forma clara. Sin embargo en algunos casos aparecen pequeños subgrupos dentro de una misma clase lo que indica sensibilidad al ruido o a diferencias sutiles entre instancias.\n",
        "\n",
        "#### UMAP (n_neighbors = 25)\n",
        "Al aumentar el número de vecinos se mantiene la separación entre clases pero comienzan a surgir conexiones suaves entre dígitos similares. Por ejemplo el 3 y el 8 aparecen más cercanos. Este comportamiento sugiere una transición gradual entre formas relacionadas. La estructura sigue siendo clara pero se empieza a notar una organización más amplia del espacio.\n",
        "\n",
        "#### UMAP (n_neighbors = 60)\n",
        "Con un vecindario amplio los clústeres mantienen su forma general pero se observan agrupamientos más amplios entre dígitos similares. Las clases no se mezclan pero están más próximas entre sí lo que sugiere una lectura más estructural del espacio.\n",
        "Por ejemplo los dígitos 3 5 y 8 aparecen agrupados reflejando su semejanza visual. Lo mismo ocurre con los dígitos 4 7 y 9. Este comportamiento indica que UMAP comienza a identificar patrones de similitud más allá de la etiqueta formando “supergrupos” relacionados por su forma.\n",
        "La clase 1 sigue claramente aislada como un trazo vertical único mientras que el 0 y el 6 permanecen bien definidos.\n",
        "Este tipo de configuración es útil cuando se quiere estudiar cómo se relacionan las clases entre sí incluso si pertenecen a categorías distintas. Aunque la separación entre grupos es menor que con valores bajos de vecinos la estructura general del conjunto se vuelve más interpretable desde una perspectiva visual.\n",
        "\n",
        "---\n",
        "\n",
        "#### Conclusión\n",
        "\n",
        "PCA permite una visualización rápida pero no separa bien las clases. En cambio UMAP ofrece representaciones más claras y ajustables. Con pocos vecinos se destacan los límites entre clases mientras que con más vecinos se observan relaciones entre dígitos parecidos. UMAP con 25 vecinos logra el mejor equilibrio entre separación y estructura general siendo la opción más útil para tareas de clasificación.\n",
        "    \"\"\")\n",
        "\n",
        "elif page == \"Punto C\":\n",
        "    st.header(\"🔹 Punto C: Evaluación de Clasificadores\")\n",
        "\n",
        "    # Logistic Regression\n",
        "    st.markdown(\"### Visualización de resultados — Logistic Regression\")\n",
        "    col1, col2 = st.columns(2)\n",
        "    with col1:\n",
        "        st.markdown(\"**Matriz de Confusión**\")\n",
        "        url = \"https://drive.google.com/file/d/1wPobwEiy2haY85ZaNtefRB8eNAYrYC9E/preview\"\n",
        "        components.iframe(url, width=440, height=420)\n",
        "    with col2:\n",
        "        st.markdown(\"**Curvas ROC Multiclase**\")\n",
        "        url = \"https://drive.google.com/file/d/1jG1vcDOn21Hq_7npUHnKG68wk_Srx9iW/preview\"\n",
        "        components.iframe(url, width=440, height=420)\n",
        "\n",
        "    st.markdown(\"\"\"---\"\"\")\n",
        "    st.markdown(\"\"\"\n",
        "### Desempeño del modelo: Logistic Regression\n",
        "\n",
        "Este clasificador logró un desempeño general sólido, con una **accuracy de 95.05 %** y un **F1-score macro promedio de 0.9465**. Los valores de precisión y exhaustividad fueron consistentes, lo que indica estabilidad en la predicción entre clases. El dígito 3 presentó mayor confusión, especialmente con el 5 y el 8.\n",
        "\n",
        "---\n",
        "\n",
        "### Visualización de resultados — Random Forest\n",
        "\"\"\")\n",
        "\n",
        "    col3, col4 = st.columns(2)\n",
        "    with col3:\n",
        "        st.markdown(\"**Matriz de Confusión**\")\n",
        "        url = \"https://drive.google.com/file/d/1PlOF1XurHVXMN9z0Qspupsw_tJtPDRvb/preview\"\n",
        "        components.iframe(url, width=440, height=420)\n",
        "    with col4:\n",
        "        st.markdown(\"**Curvas ROC Multiclase**\")\n",
        "        url = \"https://drive.google.com/file/d/1OOyFSZ50nYX9GvRFcEXg3ASfCbBMX0DF/preview\"\n",
        "        components.iframe(url, width=440, height=420)\n",
        "\n",
        "    st.markdown(\"\"\"---\"\"\")\n",
        "    st.markdown(\"\"\"\n",
        "### Desempeño del modelo: Random Forest\n",
        "\n",
        "Este modelo alcanzó una **accuracy de 95.59 %** con un **F1-score macro de 0.9518**. Mostró mejoras respecto al modelo logístico en la mayoría de las clases, en especial el dígito 5. Usó validación cruzada y evaluación `oob` para validar sin particionar el conjunto de entrenamiento.\n",
        "\n",
        "---\n",
        "\n",
        "### Visualización de resultados — CNN\n",
        "\"\"\")\n",
        "\n",
        "    col5, col6 = st.columns(2)\n",
        "    with col5:\n",
        "        st.markdown(\"**Matriz de Confusión**\")\n",
        "        url = \"https://drive.google.com/file/d/1KM0Y8JC3Vqti_u4Q6bNncQRG9vvCNR3C/preview\"\n",
        "        components.iframe(url, width=440, height=420)\n",
        "    with col6:\n",
        "        st.markdown(\"**Curvas ROC Multiclase**\")\n",
        "        url = \"https://drive.google.com/file/d/1M_J4pOlb3vu-_0l4tVAfXk3looC0eQXn/preview\"\n",
        "        components.iframe(url, width=440, height=420)\n",
        "\n",
        "    st.markdown(\"\"\"---\"\"\")\n",
        "    st.markdown(\"\"\"\n",
        "### Desempeño del modelo: CNN\n",
        "\n",
        "La red neuronal convolucional obtuvo los mejores resultados del análisis, con **accuracy de 98.46 %** y **F1-score macro de 0.9835**. La matriz de confusión muestra predicciones muy precisas y las curvas ROC alcanzan AUC de 1.00 para todas las clases. Fue entrenada con entrada de 16×16 píxeles, normalización y funciones `Adam` + `categorical_crossentropy`.\n",
        "\n",
        "---\n",
        "\n",
        "### Comparación y conclusiones\n",
        "\n",
        "**Rendimiento global**\n",
        "- CNN: Accuracy 98.46 %, F1 0.9835\n",
        "- Random Forest: Accuracy 95.59 %, F1 0.9518\n",
        "- Logistic Regression: Accuracy 95.05 %, F1 0.9465\n",
        "\n",
        "**Resumen visual**\n",
        "- LR muestra errores en clases complejas como 3, 5 y 6\n",
        "- RF mejora el manejo de clases intermedias\n",
        "- CNN casi no comete errores, especialmente en clases como 1, 6 y 9\n",
        "\n",
        "**Observaciones finales**\n",
        "- La CNN es la mejor opción cuando se necesita precisión máxima\n",
        "- Random Forest ofrece buen rendimiento con menor tiempo de entrenamiento\n",
        "- Logistic Regression es interpretable y eficiente, aunque menos potente\n",
        "\n",
        "La elección final dependerá del contexto: **si se prioriza precisión, CNN es ideal**. Si se requiere **rapidez o explicabilidad**, Random Forest o LR pueden ser preferibles.\n",
        "\"\"\")\n",
        "\n",
        "EOF\n"
      ],
      "metadata": {
        "id": "GMV0kkgiV8pd"
      },
      "execution_count": 79,
      "outputs": []
    },
    {
      "cell_type": "code",
      "source": [
        "from pyngrok import ngrok\n",
        "import subprocess\n",
        "\n",
        "# 1) Tu auth token de ngrok\n",
        "ngrok.set_auth_token(\"2lLk0AGPalJtBmv5rmZikOqohYo_MQku3xzZZgzePSJ7crCX\")\n",
        "\n",
        "# 2) Abre el túnel en el puerto 8501\n",
        "public_url = ngrok.connect(8501)\n",
        "print(\"🔗 Dashboard disponible en:\", public_url)\n",
        "\n",
        "# 3) Lanza Streamlit en background\n",
        "subprocess.Popen([\n",
        "    \"streamlit\", \"run\", \"app.py\",\n",
        "    \"--server.port\", \"8501\",\n",
        "    \"--server.address\", \"0.0.0.0\"\n",
        "])\n"
      ],
      "metadata": {
        "colab": {
          "base_uri": "https://localhost:8080/"
        },
        "id": "VwnRIthWbYhh",
        "outputId": "89ef0c3a-3a3b-4bff-91b3-5736f5137b04"
      },
      "execution_count": 80,
      "outputs": [
        {
          "output_type": "stream",
          "name": "stdout",
          "text": [
            "🔗 Dashboard disponible en: NgrokTunnel: \"https://e5a7b07d0347.ngrok-free.app\" -> \"http://localhost:8501\"\n"
          ]
        },
        {
          "output_type": "execute_result",
          "data": {
            "text/plain": [
              "<Popen: returncode: None args: ['streamlit', 'run', 'app.py', '--server.port...>"
            ]
          },
          "metadata": {},
          "execution_count": 80
        }
      ]
    },
    {
      "cell_type": "code",
      "source": [],
      "metadata": {
        "id": "Xf0juyO3dBqa"
      },
      "execution_count": null,
      "outputs": []
    }
  ]
}