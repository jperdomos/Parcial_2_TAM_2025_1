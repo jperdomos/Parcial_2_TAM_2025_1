{
  "nbformat": 4,
  "nbformat_minor": 0,
  "metadata": {
    "colab": {
      "provenance": [],
      "authorship_tag": "ABX9TyOfeQoG2Er3GJdvknNT3od2",
      "include_colab_link": true
    },
    "kernelspec": {
      "name": "python3",
      "display_name": "Python 3"
    },
    "language_info": {
      "name": "python"
    }
  },
  "cells": [
    {
      "cell_type": "markdown",
      "metadata": {
        "id": "view-in-github",
        "colab_type": "text"
      },
      "source": [
        "<a href=\"https://colab.research.google.com/github/jperdomos/Parcial_2_TAM_2025_1/blob/main/DashboardParcial2TAM.ipynb\" target=\"_parent\"><img src=\"https://colab.research.google.com/assets/colab-badge.svg\" alt=\"Open In Colab\"/></a>"
      ]
    },
    {
      "cell_type": "code",
      "execution_count": 21,
      "metadata": {
        "id": "vGHqk5jYVnRO"
      },
      "outputs": [],
      "source": [
        "!pip install -q streamlit pyngrok\n"
      ]
    },
    {
      "cell_type": "code",
      "source": [
        "%%bash\n",
        "cat > app.py << 'EOF'\n",
        "import streamlit as st\n",
        "import streamlit.components.v1 as components\n",
        "\n",
        "st.set_page_config(layout=\"wide\")\n",
        "st.title(\"📋 Dashboard Taller — Parcial 2 TAM 2025‑1\")\n",
        "\n",
        "# Sidebar para seleccionar página\n",
        "page = st.sidebar.selectbox(\"Sección\", [\"Punto A\", \"Punto B\", \"Punto C\"])\n",
        "\n",
        "if page == \"Punto A\":\n",
        "    st.header(\"🔹 Punto A\")\n",
        "    # PDF embebido desde Drive\n",
        "    file_id = \"1434woG2eO13tPr5fCh6Z5kwVavKPmgdF\"\n",
        "    preview_url = f\"https://drive.google.com/file/d/{file_id}/preview#page=1\"\n",
        "    components.iframe(preview_url, width=900, height=600)\n",
        "\n",
        "elif page == \"Punto B\":\n",
        "    st.header(\"🔹 Punto B\")\n",
        "    # Imágenes de proyección desde Drive\n",
        "    asset_ids = {\n",
        "        \"PCA (2D)\": \"1UzDfOFSKYnGKXNNkREyE1h8KGh4RQr5v\",\n",
        "        \"UMAP (n_neighbors=5)\": \"18we7yuNrdfOtKHyrPmWGqwRANascUbXU\",\n",
        "        \"UMAP (n_neighbors=25)\": \"1Pf2l2PLFVsxizkP0tfLgjrhzAzaYkM9H\",\n",
        "        \"UMAP (n_neighbors=60)\": \"1oYI_uBI_BZz2c9CKXFNMznCAPZYwcGLE\"\n",
        "    }\n",
        "    for caption, fid in asset_ids.items():\n",
        "        preview_url = f\"https://drive.google.com/file/d/{fid}/preview\"\n",
        "        components.iframe(preview_url, width=900, height=500)\n",
        "        st.caption(caption)\n",
        "\n",
        "elif page == \"Punto C\":\n",
        "    st.header(\"🔹 Punto C\")\n",
        "    # Resultados de clasificación desde Drive\n",
        "    sections = {\n",
        "        \"Logistic Regression\": [\n",
        "            (\"LR Matriz de Confusión\", \"1wPobwEiy2haY85ZaNtefRB8eNAYrYC9E\"),\n",
        "            (\"LR Curvas ROC\", \"1jG1vcDOn21Hq_7npUHnKG68wk_Srx9iW\")\n",
        "        ],\n",
        "        \"Random Forest\": [\n",
        "            (\"RF Matriz de Confusión\", \"1PlOF1XurHVXMN9z0Qspupsw_tJtPDRvb\"),\n",
        "            (\"RF Curvas ROC\", \"1OOyFSZ50nYX9GvRFcEXg3ASfCbBMX0DF\")\n",
        "        ],\n",
        "        \"CNN\": [\n",
        "            (\"CNN Matriz de Confusión\", \"1KM0Y8JC3Vqti_u4Q6bNncQRG9vvCNR3C\"),\n",
        "            (\"CNN Curvas ROC\", \"1M_J4pOlb3vu-_0l4tVAfXk3looC0eQXn\")\n",
        "        ]\n",
        "    }\n",
        "    for model_name, imgs in sections.items():\n",
        "        st.subheader(model_name)\n",
        "        for caption, fid in imgs:\n",
        "            preview_url = f\"https://drive.google.com/file/d/{fid}/preview\"\n",
        "            components.iframe(preview_url, width=900, height=500)\n",
        "            st.caption(caption)\n",
        "EOF\n"
      ],
      "metadata": {
        "id": "GMV0kkgiV8pd"
      },
      "execution_count": 32,
      "outputs": []
    },
    {
      "cell_type": "code",
      "source": [
        "from pyngrok import ngrok\n",
        "import subprocess\n",
        "\n",
        "# 1) Tu auth token de ngrok\n",
        "ngrok.set_auth_token(\"2lLk0AGPalJtBmv5rmZikOqohYo_MQku3xzZZgzePSJ7crCX\")\n",
        "\n",
        "# 2) Abre el túnel en el puerto 8501\n",
        "public_url = ngrok.connect(8501)\n",
        "print(\"🔗 Dashboard disponible en:\", public_url)\n",
        "\n",
        "# 3) Lanza Streamlit en background\n",
        "subprocess.Popen([\n",
        "    \"streamlit\", \"run\", \"app.py\",\n",
        "    \"--server.port\", \"8501\",\n",
        "    \"--server.address\", \"0.0.0.0\"\n",
        "])\n"
      ],
      "metadata": {
        "colab": {
          "base_uri": "https://localhost:8080/"
        },
        "id": "VwnRIthWbYhh",
        "outputId": "4d654ecc-51f7-40b4-833d-1a1e993b3cc5"
      },
      "execution_count": 34,
      "outputs": [
        {
          "output_type": "stream",
          "name": "stdout",
          "text": [
            "🔗 Dashboard disponible en: NgrokTunnel: \"https://0fcee6ff588b.ngrok-free.app\" -> \"http://localhost:8501\"\n"
          ]
        },
        {
          "output_type": "execute_result",
          "data": {
            "text/plain": [
              "<Popen: returncode: None args: ['streamlit', 'run', 'app.py', '--server.port...>"
            ]
          },
          "metadata": {},
          "execution_count": 34
        }
      ]
    },
    {
      "cell_type": "code",
      "source": [],
      "metadata": {
        "id": "Xf0juyO3dBqa"
      },
      "execution_count": null,
      "outputs": []
    }
  ]
}